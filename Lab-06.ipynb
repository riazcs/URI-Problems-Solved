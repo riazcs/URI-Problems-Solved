{
 "cells": [
  {
   "cell_type": "code",
   "execution_count": 16,
   "metadata": {},
   "outputs": [
    {
     "name": "stderr",
     "output_type": "stream",
     "text": [
      "Installing package into 'C:/Users/SHAWON-PC/Documents/R/win-library/3.6'\n",
      "(as 'lib' is unspecified)\n",
      "Warning message:\n",
      "\"package 'Hmisc' is in use and will not be installed\"Installing package into 'C:/Users/SHAWON-PC/Documents/R/win-library/3.6'\n",
      "(as 'lib' is unspecified)\n",
      "Warning message:\n",
      "\"package 'caret' is in use and will not be installed\"Installing package into 'C:/Users/SHAWON-PC/Documents/R/win-library/3.6'\n",
      "(as 'lib' is unspecified)\n",
      "Warning message:\n",
      "\"package 'mlbench' is in use and will not be installed\"Installing package into 'C:/Users/SHAWON-PC/Documents/R/win-library/3.6'\n",
      "(as 'lib' is unspecified)\n",
      "Warning message:\n",
      "\"package 'ggcorrplot' is in use and will not be installed\"Installing package into 'C:/Users/SHAWON-PC/Documents/R/win-library/3.6'\n",
      "(as 'lib' is unspecified)\n",
      "Warning message:\n",
      "\"package 'e1071' is in use and will not be installed\"Installing package into 'C:/Users/SHAWON-PC/Documents/R/win-library/3.6'\n",
      "(as 'lib' is unspecified)\n",
      "Warning message:\n",
      "\"package 'scales' is in use and will not be installed\"Installing package into 'C:/Users/SHAWON-PC/Documents/R/win-library/3.6'\n",
      "(as 'lib' is unspecified)\n",
      "Warning message:\n",
      "\"package 'caTools' is in use and will not be installed\""
     ]
    }
   ],
   "source": [
    "install.packages(\"Hmisc\")\n",
    "install.packages(\"caret\")\n",
    "install.packages(\"mlbench\")\n",
    "install.packages(\"ggcorrplot\")\n",
    "install.packages(\"e1071\")\n",
    "install.packages(\"scales\")\n",
    "install.packages(\"caTools\")"
   ]
  },
  {
   "cell_type": "code",
   "execution_count": 17,
   "metadata": {},
   "outputs": [],
   "source": [
    "library(Hmisc)\n",
    "library(caret)\n",
    "library(mlbench)\n",
    "library(ggcorrplot)\n",
    "library(e1071)\n",
    "library(scales)\n",
    "library(caTools)"
   ]
  },
  {
   "cell_type": "code",
   "execution_count": 39,
   "metadata": {},
   "outputs": [],
   "source": [
    "data <- read.csv(\"F:/UITS/Fall 2020 TRI/weather.csv\")"
   ]
  },
  {
   "cell_type": "code",
   "execution_count": 40,
   "metadata": {},
   "outputs": [
    {
     "data": {
      "text/html": [
       "<table>\n",
       "<caption>A data.frame: 6 × 6</caption>\n",
       "<thead>\n",
       "\t<tr><th scope=col>ï..outlook</th><th scope=col>temperature</th><th scope=col>humidity</th><th scope=col>windy</th><th scope=col>label</th><th scope=col>play</th></tr>\n",
       "\t<tr><th scope=col>&lt;fct&gt;</th><th scope=col>&lt;int&gt;</th><th scope=col>&lt;int&gt;</th><th scope=col>&lt;lgl&gt;</th><th scope=col>&lt;int&gt;</th><th scope=col>&lt;fct&gt;</th></tr>\n",
       "</thead>\n",
       "<tbody>\n",
       "\t<tr><td>sunny   </td><td>85</td><td>85</td><td>FALSE</td><td>0</td><td>no </td></tr>\n",
       "\t<tr><td>sunny   </td><td>80</td><td>90</td><td> TRUE</td><td>0</td><td>no </td></tr>\n",
       "\t<tr><td>overcast</td><td>83</td><td>83</td><td>FALSE</td><td>1</td><td>yes</td></tr>\n",
       "\t<tr><td>rainy   </td><td>70</td><td>96</td><td>FALSE</td><td>1</td><td>yes</td></tr>\n",
       "\t<tr><td>rainy   </td><td>68</td><td>80</td><td>FALSE</td><td>1</td><td>yes</td></tr>\n",
       "\t<tr><td>rainy   </td><td>65</td><td>70</td><td> TRUE</td><td>0</td><td>no </td></tr>\n",
       "</tbody>\n",
       "</table>\n"
      ],
      "text/latex": [
       "A data.frame: 6 × 6\n",
       "\\begin{tabular}{r|llllll}\n",
       " ï..outlook & temperature & humidity & windy & label & play\\\\\n",
       " <fct> & <int> & <int> & <lgl> & <int> & <fct>\\\\\n",
       "\\hline\n",
       "\t sunny    & 85 & 85 & FALSE & 0 & no \\\\\n",
       "\t sunny    & 80 & 90 &  TRUE & 0 & no \\\\\n",
       "\t overcast & 83 & 83 & FALSE & 1 & yes\\\\\n",
       "\t rainy    & 70 & 96 & FALSE & 1 & yes\\\\\n",
       "\t rainy    & 68 & 80 & FALSE & 1 & yes\\\\\n",
       "\t rainy    & 65 & 70 &  TRUE & 0 & no \\\\\n",
       "\\end{tabular}\n"
      ],
      "text/markdown": [
       "\n",
       "A data.frame: 6 × 6\n",
       "\n",
       "| ï..outlook &lt;fct&gt; | temperature &lt;int&gt; | humidity &lt;int&gt; | windy &lt;lgl&gt; | label &lt;int&gt; | play &lt;fct&gt; |\n",
       "|---|---|---|---|---|---|\n",
       "| sunny    | 85 | 85 | FALSE | 0 | no  |\n",
       "| sunny    | 80 | 90 |  TRUE | 0 | no  |\n",
       "| overcast | 83 | 83 | FALSE | 1 | yes |\n",
       "| rainy    | 70 | 96 | FALSE | 1 | yes |\n",
       "| rainy    | 68 | 80 | FALSE | 1 | yes |\n",
       "| rainy    | 65 | 70 |  TRUE | 0 | no  |\n",
       "\n"
      ],
      "text/plain": [
       "  ï..outlook temperature humidity windy label play\n",
       "1 sunny      85          85       FALSE 0     no  \n",
       "2 sunny      80          90        TRUE 0     no  \n",
       "3 overcast   83          83       FALSE 1     yes \n",
       "4 rainy      70          96       FALSE 1     yes \n",
       "5 rainy      68          80       FALSE 1     yes \n",
       "6 rainy      65          70        TRUE 0     no  "
      ]
     },
     "metadata": {},
     "output_type": "display_data"
    }
   ],
   "source": [
    "head(data)"
   ]
  },
  {
   "cell_type": "code",
   "execution_count": 41,
   "metadata": {},
   "outputs": [
    {
     "data": {
      "text/html": [
       "<table>\n",
       "<caption>A data.frame: 6 × 6</caption>\n",
       "<thead>\n",
       "\t<tr><th scope=col>outlook</th><th scope=col>temperature</th><th scope=col>humidity</th><th scope=col>windy</th><th scope=col>label</th><th scope=col>play</th></tr>\n",
       "\t<tr><th scope=col>&lt;fct&gt;</th><th scope=col>&lt;int&gt;</th><th scope=col>&lt;int&gt;</th><th scope=col>&lt;lgl&gt;</th><th scope=col>&lt;int&gt;</th><th scope=col>&lt;fct&gt;</th></tr>\n",
       "</thead>\n",
       "<tbody>\n",
       "\t<tr><td>sunny   </td><td>85</td><td>85</td><td>FALSE</td><td>0</td><td>no </td></tr>\n",
       "\t<tr><td>sunny   </td><td>80</td><td>90</td><td> TRUE</td><td>0</td><td>no </td></tr>\n",
       "\t<tr><td>overcast</td><td>83</td><td>83</td><td>FALSE</td><td>1</td><td>yes</td></tr>\n",
       "\t<tr><td>rainy   </td><td>70</td><td>96</td><td>FALSE</td><td>1</td><td>yes</td></tr>\n",
       "\t<tr><td>rainy   </td><td>68</td><td>80</td><td>FALSE</td><td>1</td><td>yes</td></tr>\n",
       "\t<tr><td>rainy   </td><td>65</td><td>70</td><td> TRUE</td><td>0</td><td>no </td></tr>\n",
       "</tbody>\n",
       "</table>\n"
      ],
      "text/latex": [
       "A data.frame: 6 × 6\n",
       "\\begin{tabular}{r|llllll}\n",
       " outlook & temperature & humidity & windy & label & play\\\\\n",
       " <fct> & <int> & <int> & <lgl> & <int> & <fct>\\\\\n",
       "\\hline\n",
       "\t sunny    & 85 & 85 & FALSE & 0 & no \\\\\n",
       "\t sunny    & 80 & 90 &  TRUE & 0 & no \\\\\n",
       "\t overcast & 83 & 83 & FALSE & 1 & yes\\\\\n",
       "\t rainy    & 70 & 96 & FALSE & 1 & yes\\\\\n",
       "\t rainy    & 68 & 80 & FALSE & 1 & yes\\\\\n",
       "\t rainy    & 65 & 70 &  TRUE & 0 & no \\\\\n",
       "\\end{tabular}\n"
      ],
      "text/markdown": [
       "\n",
       "A data.frame: 6 × 6\n",
       "\n",
       "| outlook &lt;fct&gt; | temperature &lt;int&gt; | humidity &lt;int&gt; | windy &lt;lgl&gt; | label &lt;int&gt; | play &lt;fct&gt; |\n",
       "|---|---|---|---|---|---|\n",
       "| sunny    | 85 | 85 | FALSE | 0 | no  |\n",
       "| sunny    | 80 | 90 |  TRUE | 0 | no  |\n",
       "| overcast | 83 | 83 | FALSE | 1 | yes |\n",
       "| rainy    | 70 | 96 | FALSE | 1 | yes |\n",
       "| rainy    | 68 | 80 | FALSE | 1 | yes |\n",
       "| rainy    | 65 | 70 |  TRUE | 0 | no  |\n",
       "\n"
      ],
      "text/plain": [
       "  outlook  temperature humidity windy label play\n",
       "1 sunny    85          85       FALSE 0     no  \n",
       "2 sunny    80          90        TRUE 0     no  \n",
       "3 overcast 83          83       FALSE 1     yes \n",
       "4 rainy    70          96       FALSE 1     yes \n",
       "5 rainy    68          80       FALSE 1     yes \n",
       "6 rainy    65          70        TRUE 0     no  "
      ]
     },
     "metadata": {},
     "output_type": "display_data"
    }
   ],
   "source": [
    "names(data)[1] <- \"outlook\" # change firstcoum name as ts\n",
    "head(data)"
   ]
  },
  {
   "cell_type": "code",
   "execution_count": 42,
   "metadata": {},
   "outputs": [
    {
     "data": {
      "text/html": [
       "4"
      ],
      "text/latex": [
       "4"
      ],
      "text/markdown": [
       "4"
      ],
      "text/plain": [
       "[1] 4"
      ]
     },
     "metadata": {},
     "output_type": "display_data"
    }
   ],
   "source": [
    "no_attributes= ncol(data)-2\n",
    "no_attributes"
   ]
  },
  {
   "cell_type": "code",
   "execution_count": 43,
   "metadata": {},
   "outputs": [
    {
     "data": {
      "text/html": [
       "<table>\n",
       "<caption>A data.frame: 6 × 4</caption>\n",
       "<thead>\n",
       "\t<tr><th scope=col>outlook</th><th scope=col>temperature</th><th scope=col>humidity</th><th scope=col>windy</th></tr>\n",
       "\t<tr><th scope=col>&lt;fct&gt;</th><th scope=col>&lt;int&gt;</th><th scope=col>&lt;int&gt;</th><th scope=col>&lt;lgl&gt;</th></tr>\n",
       "</thead>\n",
       "<tbody>\n",
       "\t<tr><td>sunny   </td><td>85</td><td>85</td><td>FALSE</td></tr>\n",
       "\t<tr><td>sunny   </td><td>80</td><td>90</td><td> TRUE</td></tr>\n",
       "\t<tr><td>overcast</td><td>83</td><td>83</td><td>FALSE</td></tr>\n",
       "\t<tr><td>rainy   </td><td>70</td><td>96</td><td>FALSE</td></tr>\n",
       "\t<tr><td>rainy   </td><td>68</td><td>80</td><td>FALSE</td></tr>\n",
       "\t<tr><td>rainy   </td><td>65</td><td>70</td><td> TRUE</td></tr>\n",
       "</tbody>\n",
       "</table>\n"
      ],
      "text/latex": [
       "A data.frame: 6 × 4\n",
       "\\begin{tabular}{r|llll}\n",
       " outlook & temperature & humidity & windy\\\\\n",
       " <fct> & <int> & <int> & <lgl>\\\\\n",
       "\\hline\n",
       "\t sunny    & 85 & 85 & FALSE\\\\\n",
       "\t sunny    & 80 & 90 &  TRUE\\\\\n",
       "\t overcast & 83 & 83 & FALSE\\\\\n",
       "\t rainy    & 70 & 96 & FALSE\\\\\n",
       "\t rainy    & 68 & 80 & FALSE\\\\\n",
       "\t rainy    & 65 & 70 &  TRUE\\\\\n",
       "\\end{tabular}\n"
      ],
      "text/markdown": [
       "\n",
       "A data.frame: 6 × 4\n",
       "\n",
       "| outlook &lt;fct&gt; | temperature &lt;int&gt; | humidity &lt;int&gt; | windy &lt;lgl&gt; |\n",
       "|---|---|---|---|\n",
       "| sunny    | 85 | 85 | FALSE |\n",
       "| sunny    | 80 | 90 |  TRUE |\n",
       "| overcast | 83 | 83 | FALSE |\n",
       "| rainy    | 70 | 96 | FALSE |\n",
       "| rainy    | 68 | 80 | FALSE |\n",
       "| rainy    | 65 | 70 |  TRUE |\n",
       "\n"
      ],
      "text/plain": [
       "  outlook  temperature humidity windy\n",
       "1 sunny    85          85       FALSE\n",
       "2 sunny    80          90        TRUE\n",
       "3 overcast 83          83       FALSE\n",
       "4 rainy    70          96       FALSE\n",
       "5 rainy    68          80       FALSE\n",
       "6 rainy    65          70        TRUE"
      ]
     },
     "metadata": {},
     "output_type": "display_data"
    }
   ],
   "source": [
    "dt = data [,1:no_attributes]\n",
    "head(dt)"
   ]
  },
  {
   "cell_type": "code",
   "execution_count": 44,
   "metadata": {},
   "outputs": [
    {
     "data": {
      "text/html": [
       "<table>\n",
       "<caption>A data.frame: 6 × 6</caption>\n",
       "<thead>\n",
       "\t<tr><th scope=col>outlook</th><th scope=col>temperature</th><th scope=col>humidity</th><th scope=col>windy</th><th scope=col>label</th><th scope=col>play</th></tr>\n",
       "\t<tr><th scope=col>&lt;fct&gt;</th><th scope=col>&lt;int&gt;</th><th scope=col>&lt;int&gt;</th><th scope=col>&lt;lgl&gt;</th><th scope=col>&lt;int&gt;</th><th scope=col>&lt;fct&gt;</th></tr>\n",
       "</thead>\n",
       "<tbody>\n",
       "\t<tr><td>sunny   </td><td>85</td><td>85</td><td>FALSE</td><td>0</td><td>no </td></tr>\n",
       "\t<tr><td>sunny   </td><td>80</td><td>90</td><td> TRUE</td><td>0</td><td>no </td></tr>\n",
       "\t<tr><td>overcast</td><td>83</td><td>83</td><td>FALSE</td><td>1</td><td>yes</td></tr>\n",
       "\t<tr><td>rainy   </td><td>70</td><td>96</td><td>FALSE</td><td>1</td><td>yes</td></tr>\n",
       "\t<tr><td>rainy   </td><td>68</td><td>80</td><td>FALSE</td><td>1</td><td>yes</td></tr>\n",
       "\t<tr><td>rainy   </td><td>65</td><td>70</td><td> TRUE</td><td>0</td><td>no </td></tr>\n",
       "</tbody>\n",
       "</table>\n"
      ],
      "text/latex": [
       "A data.frame: 6 × 6\n",
       "\\begin{tabular}{r|llllll}\n",
       " outlook & temperature & humidity & windy & label & play\\\\\n",
       " <fct> & <int> & <int> & <lgl> & <int> & <fct>\\\\\n",
       "\\hline\n",
       "\t sunny    & 85 & 85 & FALSE & 0 & no \\\\\n",
       "\t sunny    & 80 & 90 &  TRUE & 0 & no \\\\\n",
       "\t overcast & 83 & 83 & FALSE & 1 & yes\\\\\n",
       "\t rainy    & 70 & 96 & FALSE & 1 & yes\\\\\n",
       "\t rainy    & 68 & 80 & FALSE & 1 & yes\\\\\n",
       "\t rainy    & 65 & 70 &  TRUE & 0 & no \\\\\n",
       "\\end{tabular}\n"
      ],
      "text/markdown": [
       "\n",
       "A data.frame: 6 × 6\n",
       "\n",
       "| outlook &lt;fct&gt; | temperature &lt;int&gt; | humidity &lt;int&gt; | windy &lt;lgl&gt; | label &lt;int&gt; | play &lt;fct&gt; |\n",
       "|---|---|---|---|---|---|\n",
       "| sunny    | 85 | 85 | FALSE | 0 | no  |\n",
       "| sunny    | 80 | 90 |  TRUE | 0 | no  |\n",
       "| overcast | 83 | 83 | FALSE | 1 | yes |\n",
       "| rainy    | 70 | 96 | FALSE | 1 | yes |\n",
       "| rainy    | 68 | 80 | FALSE | 1 | yes |\n",
       "| rainy    | 65 | 70 |  TRUE | 0 | no  |\n",
       "\n"
      ],
      "text/plain": [
       "  outlook  temperature humidity windy label play\n",
       "1 sunny    85          85       FALSE 0     no  \n",
       "2 sunny    80          90        TRUE 0     no  \n",
       "3 overcast 83          83       FALSE 1     yes \n",
       "4 rainy    70          96       FALSE 1     yes \n",
       "5 rainy    68          80       FALSE 1     yes \n",
       "6 rainy    65          70        TRUE 0     no  "
      ]
     },
     "metadata": {},
     "output_type": "display_data"
    }
   ],
   "source": [
    "orignal_dt= data [, 1:ncol(data)] \n",
    "head(orignal_dt)"
   ]
  },
  {
   "cell_type": "code",
   "execution_count": 45,
   "metadata": {},
   "outputs": [
    {
     "data": {
      "text/html": [
       "<dl class=dl-horizontal>\n",
       "\t<dt>outlook</dt>\n",
       "\t\t<dd>TRUE</dd>\n",
       "\t<dt>temperature</dt>\n",
       "\t\t<dd>FALSE</dd>\n",
       "\t<dt>humidity</dt>\n",
       "\t\t<dd>FALSE</dd>\n",
       "\t<dt>windy</dt>\n",
       "\t\t<dd>FALSE</dd>\n",
       "</dl>\n"
      ],
      "text/latex": [
       "\\begin{description*}\n",
       "\\item[outlook] TRUE\n",
       "\\item[temperature] FALSE\n",
       "\\item[humidity] FALSE\n",
       "\\item[windy] FALSE\n",
       "\\end{description*}\n"
      ],
      "text/markdown": [
       "outlook\n",
       ":   TRUEtemperature\n",
       ":   FALSEhumidity\n",
       ":   FALSEwindy\n",
       ":   FALSE\n",
       "\n"
      ],
      "text/plain": [
       "    outlook temperature    humidity       windy \n",
       "       TRUE       FALSE       FALSE       FALSE "
      ]
     },
     "metadata": {},
     "output_type": "display_data"
    }
   ],
   "source": [
    "num_conv <- sapply(dt,is.factor) \n",
    "num_conv"
   ]
  },
  {
   "cell_type": "code",
   "execution_count": 46,
   "metadata": {},
   "outputs": [
    {
     "data": {
      "text/html": [
       "<ol class=list-inline>\n",
       "\t<li>3</li>\n",
       "\t<li>3</li>\n",
       "\t<li>1</li>\n",
       "\t<li>2</li>\n",
       "\t<li>2</li>\n",
       "\t<li>2</li>\n",
       "</ol>\n"
      ],
      "text/latex": [
       "\\begin{enumerate*}\n",
       "\\item 3\n",
       "\\item 3\n",
       "\\item 1\n",
       "\\item 2\n",
       "\\item 2\n",
       "\\item 2\n",
       "\\end{enumerate*}\n"
      ],
      "text/markdown": [
       "1. 3\n",
       "2. 3\n",
       "3. 1\n",
       "4. 2\n",
       "5. 2\n",
       "6. 2\n",
       "\n",
       "\n"
      ],
      "text/plain": [
       "[1] 3 3 1 2 2 2"
      ]
     },
     "metadata": {},
     "output_type": "display_data"
    }
   ],
   "source": [
    "str_att <- sapply(dt[,num_conv],unclass)\n",
    "head(str_att)"
   ]
  },
  {
   "cell_type": "code",
   "execution_count": 47,
   "metadata": {},
   "outputs": [
    {
     "data": {
      "text/html": [
       "<table>\n",
       "<caption>A matrix: 6 × 3 of type int</caption>\n",
       "<thead>\n",
       "\t<tr><th scope=col>temperature</th><th scope=col>humidity</th><th scope=col>windy</th></tr>\n",
       "</thead>\n",
       "<tbody>\n",
       "\t<tr><td>85</td><td>85</td><td>0</td></tr>\n",
       "\t<tr><td>80</td><td>90</td><td>1</td></tr>\n",
       "\t<tr><td>83</td><td>83</td><td>0</td></tr>\n",
       "\t<tr><td>70</td><td>96</td><td>0</td></tr>\n",
       "\t<tr><td>68</td><td>80</td><td>0</td></tr>\n",
       "\t<tr><td>65</td><td>70</td><td>1</td></tr>\n",
       "</tbody>\n",
       "</table>\n"
      ],
      "text/latex": [
       "A matrix: 6 × 3 of type int\n",
       "\\begin{tabular}{lll}\n",
       " temperature & humidity & windy\\\\\n",
       "\\hline\n",
       "\t 85 & 85 & 0\\\\\n",
       "\t 80 & 90 & 1\\\\\n",
       "\t 83 & 83 & 0\\\\\n",
       "\t 70 & 96 & 0\\\\\n",
       "\t 68 & 80 & 0\\\\\n",
       "\t 65 & 70 & 1\\\\\n",
       "\\end{tabular}\n"
      ],
      "text/markdown": [
       "\n",
       "A matrix: 6 × 3 of type int\n",
       "\n",
       "| temperature | humidity | windy |\n",
       "|---|---|---|\n",
       "| 85 | 85 | 0 |\n",
       "| 80 | 90 | 1 |\n",
       "| 83 | 83 | 0 |\n",
       "| 70 | 96 | 0 |\n",
       "| 68 | 80 | 0 |\n",
       "| 65 | 70 | 1 |\n",
       "\n"
      ],
      "text/plain": [
       "     temperature humidity windy\n",
       "[1,] 85          85       0    \n",
       "[2,] 80          90       1    \n",
       "[3,] 83          83       0    \n",
       "[4,] 70          96       0    \n",
       "[5,] 68          80       0    \n",
       "[6,] 65          70       1    "
      ]
     },
     "metadata": {},
     "output_type": "display_data"
    }
   ],
   "source": [
    "num_att <- sapply(dt[,!num_conv],unclass)\n",
    "head(num_att)"
   ]
  },
  {
   "cell_type": "code",
   "execution_count": 52,
   "metadata": {},
   "outputs": [
    {
     "data": {
      "text/html": [
       "<table>\n",
       "<caption>A matrix: 6 × 4 of type int</caption>\n",
       "<thead>\n",
       "\t<tr><th scope=col>str_att</th><th scope=col>temperature</th><th scope=col>humidity</th><th scope=col>windy</th></tr>\n",
       "</thead>\n",
       "<tbody>\n",
       "\t<tr><td>3</td><td>85</td><td>85</td><td>0</td></tr>\n",
       "\t<tr><td>3</td><td>80</td><td>90</td><td>1</td></tr>\n",
       "\t<tr><td>1</td><td>83</td><td>83</td><td>0</td></tr>\n",
       "\t<tr><td>2</td><td>70</td><td>96</td><td>0</td></tr>\n",
       "\t<tr><td>2</td><td>68</td><td>80</td><td>0</td></tr>\n",
       "\t<tr><td>2</td><td>65</td><td>70</td><td>1</td></tr>\n",
       "</tbody>\n",
       "</table>\n"
      ],
      "text/latex": [
       "A matrix: 6 × 4 of type int\n",
       "\\begin{tabular}{llll}\n",
       " str\\_att & temperature & humidity & windy\\\\\n",
       "\\hline\n",
       "\t 3 & 85 & 85 & 0\\\\\n",
       "\t 3 & 80 & 90 & 1\\\\\n",
       "\t 1 & 83 & 83 & 0\\\\\n",
       "\t 2 & 70 & 96 & 0\\\\\n",
       "\t 2 & 68 & 80 & 0\\\\\n",
       "\t 2 & 65 & 70 & 1\\\\\n",
       "\\end{tabular}\n"
      ],
      "text/markdown": [
       "\n",
       "A matrix: 6 × 4 of type int\n",
       "\n",
       "| str_att | temperature | humidity | windy |\n",
       "|---|---|---|---|\n",
       "| 3 | 85 | 85 | 0 |\n",
       "| 3 | 80 | 90 | 1 |\n",
       "| 1 | 83 | 83 | 0 |\n",
       "| 2 | 70 | 96 | 0 |\n",
       "| 2 | 68 | 80 | 0 |\n",
       "| 2 | 65 | 70 | 1 |\n",
       "\n"
      ],
      "text/plain": [
       "     str_att temperature humidity windy\n",
       "[1,] 3       85          85       0    \n",
       "[2,] 3       80          90       1    \n",
       "[3,] 1       83          83       0    \n",
       "[4,] 2       70          96       0    \n",
       "[5,] 2       68          80       0    \n",
       "[6,] 2       65          70       1    "
      ]
     },
     "metadata": {},
     "output_type": "display_data"
    }
   ],
   "source": [
    "out<-cbind(str_att,num_att) \n",
    "head(out)"
   ]
  },
  {
   "cell_type": "code",
   "execution_count": 55,
   "metadata": {},
   "outputs": [
    {
     "data": {
      "text/html": [
       "<table>\n",
       "<caption>A data.frame: 6 × 4</caption>\n",
       "<thead>\n",
       "\t<tr><th scope=col>str_att</th><th scope=col>temperature</th><th scope=col>humidity</th><th scope=col>windy</th></tr>\n",
       "\t<tr><th scope=col>&lt;dbl&gt;</th><th scope=col>&lt;dbl&gt;</th><th scope=col>&lt;dbl&gt;</th><th scope=col>&lt;dbl&gt;</th></tr>\n",
       "</thead>\n",
       "<tbody>\n",
       "\t<tr><td>1.0</td><td>1.00000000</td><td>0.65625</td><td>0</td></tr>\n",
       "\t<tr><td>1.0</td><td>0.76190476</td><td>0.81250</td><td>1</td></tr>\n",
       "\t<tr><td>0.0</td><td>0.90476190</td><td>0.59375</td><td>0</td></tr>\n",
       "\t<tr><td>0.5</td><td>0.28571429</td><td>1.00000</td><td>0</td></tr>\n",
       "\t<tr><td>0.5</td><td>0.19047619</td><td>0.50000</td><td>0</td></tr>\n",
       "\t<tr><td>0.5</td><td>0.04761905</td><td>0.18750</td><td>1</td></tr>\n",
       "</tbody>\n",
       "</table>\n"
      ],
      "text/latex": [
       "A data.frame: 6 × 4\n",
       "\\begin{tabular}{r|llll}\n",
       " str\\_att & temperature & humidity & windy\\\\\n",
       " <dbl> & <dbl> & <dbl> & <dbl>\\\\\n",
       "\\hline\n",
       "\t 1.0 & 1.00000000 & 0.65625 & 0\\\\\n",
       "\t 1.0 & 0.76190476 & 0.81250 & 1\\\\\n",
       "\t 0.0 & 0.90476190 & 0.59375 & 0\\\\\n",
       "\t 0.5 & 0.28571429 & 1.00000 & 0\\\\\n",
       "\t 0.5 & 0.19047619 & 0.50000 & 0\\\\\n",
       "\t 0.5 & 0.04761905 & 0.18750 & 1\\\\\n",
       "\\end{tabular}\n"
      ],
      "text/markdown": [
       "\n",
       "A data.frame: 6 × 4\n",
       "\n",
       "| str_att &lt;dbl&gt; | temperature &lt;dbl&gt; | humidity &lt;dbl&gt; | windy &lt;dbl&gt; |\n",
       "|---|---|---|---|\n",
       "| 1.0 | 1.00000000 | 0.65625 | 0 |\n",
       "| 1.0 | 0.76190476 | 0.81250 | 1 |\n",
       "| 0.0 | 0.90476190 | 0.59375 | 0 |\n",
       "| 0.5 | 0.28571429 | 1.00000 | 0 |\n",
       "| 0.5 | 0.19047619 | 0.50000 | 0 |\n",
       "| 0.5 | 0.04761905 | 0.18750 | 1 |\n",
       "\n"
      ],
      "text/plain": [
       "  str_att temperature humidity windy\n",
       "1 1.0     1.00000000  0.65625  0    \n",
       "2 1.0     0.76190476  0.81250  1    \n",
       "3 0.0     0.90476190  0.59375  0    \n",
       "4 0.5     0.28571429  1.00000  0    \n",
       "5 0.5     0.19047619  0.50000  0    \n",
       "6 0.5     0.04761905  0.18750  1    "
      ]
     },
     "metadata": {},
     "output_type": "display_data"
    }
   ],
   "source": [
    "dt_n= as.data.frame(apply(out, 2, rescale, to=c(0,1)))\n",
    "head(dt_n)"
   ]
  },
  {
   "cell_type": "code",
   "execution_count": 64,
   "metadata": {},
   "outputs": [
    {
     "data": {
      "text/html": [
       "<table>\n",
       "<caption>A data.frame: 6 × 5</caption>\n",
       "<thead>\n",
       "\t<tr><th scope=col>str_att</th><th scope=col>temperature</th><th scope=col>humidity</th><th scope=col>windy</th><th scope=col>data[, ncol(data) - 1]</th></tr>\n",
       "\t<tr><th scope=col>&lt;dbl&gt;</th><th scope=col>&lt;dbl&gt;</th><th scope=col>&lt;dbl&gt;</th><th scope=col>&lt;dbl&gt;</th><th scope=col>&lt;int&gt;</th></tr>\n",
       "</thead>\n",
       "<tbody>\n",
       "\t<tr><td>1.0</td><td>1.00000000</td><td>0.65625</td><td>0</td><td>0</td></tr>\n",
       "\t<tr><td>1.0</td><td>0.76190476</td><td>0.81250</td><td>1</td><td>0</td></tr>\n",
       "\t<tr><td>0.0</td><td>0.90476190</td><td>0.59375</td><td>0</td><td>1</td></tr>\n",
       "\t<tr><td>0.5</td><td>0.28571429</td><td>1.00000</td><td>0</td><td>1</td></tr>\n",
       "\t<tr><td>0.5</td><td>0.19047619</td><td>0.50000</td><td>0</td><td>1</td></tr>\n",
       "\t<tr><td>0.5</td><td>0.04761905</td><td>0.18750</td><td>1</td><td>0</td></tr>\n",
       "</tbody>\n",
       "</table>\n"
      ],
      "text/latex": [
       "A data.frame: 6 × 5\n",
       "\\begin{tabular}{r|lllll}\n",
       " str\\_att & temperature & humidity & windy & data{[}, ncol(data) - 1{]}\\\\\n",
       " <dbl> & <dbl> & <dbl> & <dbl> & <int>\\\\\n",
       "\\hline\n",
       "\t 1.0 & 1.00000000 & 0.65625 & 0 & 0\\\\\n",
       "\t 1.0 & 0.76190476 & 0.81250 & 1 & 0\\\\\n",
       "\t 0.0 & 0.90476190 & 0.59375 & 0 & 1\\\\\n",
       "\t 0.5 & 0.28571429 & 1.00000 & 0 & 1\\\\\n",
       "\t 0.5 & 0.19047619 & 0.50000 & 0 & 1\\\\\n",
       "\t 0.5 & 0.04761905 & 0.18750 & 1 & 0\\\\\n",
       "\\end{tabular}\n"
      ],
      "text/markdown": [
       "\n",
       "A data.frame: 6 × 5\n",
       "\n",
       "| str_att &lt;dbl&gt; | temperature &lt;dbl&gt; | humidity &lt;dbl&gt; | windy &lt;dbl&gt; | data[, ncol(data) - 1] &lt;int&gt; |\n",
       "|---|---|---|---|---|\n",
       "| 1.0 | 1.00000000 | 0.65625 | 0 | 0 |\n",
       "| 1.0 | 0.76190476 | 0.81250 | 1 | 0 |\n",
       "| 0.0 | 0.90476190 | 0.59375 | 0 | 1 |\n",
       "| 0.5 | 0.28571429 | 1.00000 | 0 | 1 |\n",
       "| 0.5 | 0.19047619 | 0.50000 | 0 | 1 |\n",
       "| 0.5 | 0.04761905 | 0.18750 | 1 | 0 |\n",
       "\n"
      ],
      "text/plain": [
       "  str_att temperature humidity windy data[, ncol(data) - 1]\n",
       "1 1.0     1.00000000  0.65625  0     0                     \n",
       "2 1.0     0.76190476  0.81250  1     0                     \n",
       "3 0.0     0.90476190  0.59375  0     1                     \n",
       "4 0.5     0.28571429  1.00000  0     1                     \n",
       "5 0.5     0.19047619  0.50000  0     1                     \n",
       "6 0.5     0.04761905  0.18750  1     0                     "
      ]
     },
     "metadata": {},
     "output_type": "display_data"
    }
   ],
   "source": [
    "all_dt = cbind (dt_n,data[,ncol(data)-1]) \n",
    "head(all_dt)"
   ]
  },
  {
   "cell_type": "code",
   "execution_count": 65,
   "metadata": {},
   "outputs": [
    {
     "data": {
      "text/html": [
       "<table>\n",
       "<caption>A data.frame: 6 × 5</caption>\n",
       "<thead>\n",
       "\t<tr><th scope=col>outlook</th><th scope=col>temperature</th><th scope=col>humidity</th><th scope=col>windy</th><th scope=col>data[, ncol(data) - 1]</th></tr>\n",
       "\t<tr><th scope=col>&lt;dbl&gt;</th><th scope=col>&lt;dbl&gt;</th><th scope=col>&lt;dbl&gt;</th><th scope=col>&lt;dbl&gt;</th><th scope=col>&lt;int&gt;</th></tr>\n",
       "</thead>\n",
       "<tbody>\n",
       "\t<tr><td>1.0</td><td>1.00000000</td><td>0.65625</td><td>0</td><td>0</td></tr>\n",
       "\t<tr><td>1.0</td><td>0.76190476</td><td>0.81250</td><td>1</td><td>0</td></tr>\n",
       "\t<tr><td>0.0</td><td>0.90476190</td><td>0.59375</td><td>0</td><td>1</td></tr>\n",
       "\t<tr><td>0.5</td><td>0.28571429</td><td>1.00000</td><td>0</td><td>1</td></tr>\n",
       "\t<tr><td>0.5</td><td>0.19047619</td><td>0.50000</td><td>0</td><td>1</td></tr>\n",
       "\t<tr><td>0.5</td><td>0.04761905</td><td>0.18750</td><td>1</td><td>0</td></tr>\n",
       "</tbody>\n",
       "</table>\n"
      ],
      "text/latex": [
       "A data.frame: 6 × 5\n",
       "\\begin{tabular}{r|lllll}\n",
       " outlook & temperature & humidity & windy & data{[}, ncol(data) - 1{]}\\\\\n",
       " <dbl> & <dbl> & <dbl> & <dbl> & <int>\\\\\n",
       "\\hline\n",
       "\t 1.0 & 1.00000000 & 0.65625 & 0 & 0\\\\\n",
       "\t 1.0 & 0.76190476 & 0.81250 & 1 & 0\\\\\n",
       "\t 0.0 & 0.90476190 & 0.59375 & 0 & 1\\\\\n",
       "\t 0.5 & 0.28571429 & 1.00000 & 0 & 1\\\\\n",
       "\t 0.5 & 0.19047619 & 0.50000 & 0 & 1\\\\\n",
       "\t 0.5 & 0.04761905 & 0.18750 & 1 & 0\\\\\n",
       "\\end{tabular}\n"
      ],
      "text/markdown": [
       "\n",
       "A data.frame: 6 × 5\n",
       "\n",
       "| outlook &lt;dbl&gt; | temperature &lt;dbl&gt; | humidity &lt;dbl&gt; | windy &lt;dbl&gt; | data[, ncol(data) - 1] &lt;int&gt; |\n",
       "|---|---|---|---|---|\n",
       "| 1.0 | 1.00000000 | 0.65625 | 0 | 0 |\n",
       "| 1.0 | 0.76190476 | 0.81250 | 1 | 0 |\n",
       "| 0.0 | 0.90476190 | 0.59375 | 0 | 1 |\n",
       "| 0.5 | 0.28571429 | 1.00000 | 0 | 1 |\n",
       "| 0.5 | 0.19047619 | 0.50000 | 0 | 1 |\n",
       "| 0.5 | 0.04761905 | 0.18750 | 1 | 0 |\n",
       "\n"
      ],
      "text/plain": [
       "  outlook temperature humidity windy data[, ncol(data) - 1]\n",
       "1 1.0     1.00000000  0.65625  0     0                     \n",
       "2 1.0     0.76190476  0.81250  1     0                     \n",
       "3 0.0     0.90476190  0.59375  0     1                     \n",
       "4 0.5     0.28571429  1.00000  0     1                     \n",
       "5 0.5     0.19047619  0.50000  0     1                     \n",
       "6 0.5     0.04761905  0.18750  1     0                     "
      ]
     },
     "metadata": {},
     "output_type": "display_data"
    }
   ],
   "source": [
    "names(all_dt)[1] <- \"outlook\"\n",
    "head(all_dt)"
   ]
  },
  {
   "cell_type": "code",
   "execution_count": 66,
   "metadata": {},
   "outputs": [
    {
     "data": {
      "text/html": [
       "<table>\n",
       "<caption>A data.frame: 6 × 5</caption>\n",
       "<thead>\n",
       "\t<tr><th scope=col>outlook</th><th scope=col>temperature</th><th scope=col>humidity</th><th scope=col>windy</th><th scope=col>label</th></tr>\n",
       "\t<tr><th scope=col>&lt;dbl&gt;</th><th scope=col>&lt;dbl&gt;</th><th scope=col>&lt;dbl&gt;</th><th scope=col>&lt;dbl&gt;</th><th scope=col>&lt;int&gt;</th></tr>\n",
       "</thead>\n",
       "<tbody>\n",
       "\t<tr><td>1.0</td><td>1.00000000</td><td>0.65625</td><td>0</td><td>0</td></tr>\n",
       "\t<tr><td>1.0</td><td>0.76190476</td><td>0.81250</td><td>1</td><td>0</td></tr>\n",
       "\t<tr><td>0.0</td><td>0.90476190</td><td>0.59375</td><td>0</td><td>1</td></tr>\n",
       "\t<tr><td>0.5</td><td>0.28571429</td><td>1.00000</td><td>0</td><td>1</td></tr>\n",
       "\t<tr><td>0.5</td><td>0.19047619</td><td>0.50000</td><td>0</td><td>1</td></tr>\n",
       "\t<tr><td>0.5</td><td>0.04761905</td><td>0.18750</td><td>1</td><td>0</td></tr>\n",
       "</tbody>\n",
       "</table>\n"
      ],
      "text/latex": [
       "A data.frame: 6 × 5\n",
       "\\begin{tabular}{r|lllll}\n",
       " outlook & temperature & humidity & windy & label\\\\\n",
       " <dbl> & <dbl> & <dbl> & <dbl> & <int>\\\\\n",
       "\\hline\n",
       "\t 1.0 & 1.00000000 & 0.65625 & 0 & 0\\\\\n",
       "\t 1.0 & 0.76190476 & 0.81250 & 1 & 0\\\\\n",
       "\t 0.0 & 0.90476190 & 0.59375 & 0 & 1\\\\\n",
       "\t 0.5 & 0.28571429 & 1.00000 & 0 & 1\\\\\n",
       "\t 0.5 & 0.19047619 & 0.50000 & 0 & 1\\\\\n",
       "\t 0.5 & 0.04761905 & 0.18750 & 1 & 0\\\\\n",
       "\\end{tabular}\n"
      ],
      "text/markdown": [
       "\n",
       "A data.frame: 6 × 5\n",
       "\n",
       "| outlook &lt;dbl&gt; | temperature &lt;dbl&gt; | humidity &lt;dbl&gt; | windy &lt;dbl&gt; | label &lt;int&gt; |\n",
       "|---|---|---|---|---|\n",
       "| 1.0 | 1.00000000 | 0.65625 | 0 | 0 |\n",
       "| 1.0 | 0.76190476 | 0.81250 | 1 | 0 |\n",
       "| 0.0 | 0.90476190 | 0.59375 | 0 | 1 |\n",
       "| 0.5 | 0.28571429 | 1.00000 | 0 | 1 |\n",
       "| 0.5 | 0.19047619 | 0.50000 | 0 | 1 |\n",
       "| 0.5 | 0.04761905 | 0.18750 | 1 | 0 |\n",
       "\n"
      ],
      "text/plain": [
       "  outlook temperature humidity windy label\n",
       "1 1.0     1.00000000  0.65625  0     0    \n",
       "2 1.0     0.76190476  0.81250  1     0    \n",
       "3 0.0     0.90476190  0.59375  0     1    \n",
       "4 0.5     0.28571429  1.00000  0     1    \n",
       "5 0.5     0.19047619  0.50000  0     1    \n",
       "6 0.5     0.04761905  0.18750  1     0    "
      ]
     },
     "metadata": {},
     "output_type": "display_data"
    }
   ],
   "source": [
    "names(all_dt)[ncol(all_dt)] <- \"label\"\n",
    "head(all_dt)"
   ]
  },
  {
   "cell_type": "code",
   "execution_count": 67,
   "metadata": {},
   "outputs": [
    {
     "data": {
      "text/html": [
       "<table>\n",
       "<caption>A matrix: 5 × 5 of type dbl</caption>\n",
       "<thead>\n",
       "\t<tr><th></th><th scope=col>outlook</th><th scope=col>temperature</th><th scope=col>humidity</th><th scope=col>windy</th><th scope=col>label</th></tr>\n",
       "</thead>\n",
       "<tbody>\n",
       "\t<tr><th scope=row>outlook</th><td>0.00000000</td><td>0.7211155</td><td>0.6103932</td><td>0.7923961</td><td>0.07303349</td></tr>\n",
       "\t<tr><th scope=row>temperature</th><td>0.72111550</td><td>0.0000000</td><td>0.3109045</td><td>0.2509366</td><td>0.68014215</td></tr>\n",
       "\t<tr><th scope=row>humidity</th><td>0.61039323</td><td>0.3109045</td><td>0.0000000</td><td>0.5146305</td><td>0.20327979</td></tr>\n",
       "\t<tr><th scope=row>windy</th><td>0.79239609</td><td>0.2509366</td><td>0.5146305</td><td>0.0000000</td><td>0.37278428</td></tr>\n",
       "\t<tr><th scope=row>label</th><td>0.07303349</td><td>0.6801421</td><td>0.2032798</td><td>0.3727843</td><td>0.00000000</td></tr>\n",
       "</tbody>\n",
       "</table>\n"
      ],
      "text/latex": [
       "A matrix: 5 × 5 of type dbl\n",
       "\\begin{tabular}{r|lllll}\n",
       "  & outlook & temperature & humidity & windy & label\\\\\n",
       "\\hline\n",
       "\toutlook & 0.00000000 & 0.7211155 & 0.6103932 & 0.7923961 & 0.07303349\\\\\n",
       "\ttemperature & 0.72111550 & 0.0000000 & 0.3109045 & 0.2509366 & 0.68014215\\\\\n",
       "\thumidity & 0.61039323 & 0.3109045 & 0.0000000 & 0.5146305 & 0.20327979\\\\\n",
       "\twindy & 0.79239609 & 0.2509366 & 0.5146305 & 0.0000000 & 0.37278428\\\\\n",
       "\tlabel & 0.07303349 & 0.6801421 & 0.2032798 & 0.3727843 & 0.00000000\\\\\n",
       "\\end{tabular}\n"
      ],
      "text/markdown": [
       "\n",
       "A matrix: 5 × 5 of type dbl\n",
       "\n",
       "| <!--/--> | outlook | temperature | humidity | windy | label |\n",
       "|---|---|---|---|---|---|\n",
       "| outlook | 0.00000000 | 0.7211155 | 0.6103932 | 0.7923961 | 0.07303349 |\n",
       "| temperature | 0.72111550 | 0.0000000 | 0.3109045 | 0.2509366 | 0.68014215 |\n",
       "| humidity | 0.61039323 | 0.3109045 | 0.0000000 | 0.5146305 | 0.20327979 |\n",
       "| windy | 0.79239609 | 0.2509366 | 0.5146305 | 0.0000000 | 0.37278428 |\n",
       "| label | 0.07303349 | 0.6801421 | 0.2032798 | 0.3727843 | 0.00000000 |\n",
       "\n"
      ],
      "text/plain": [
       "            outlook    temperature humidity  windy     label     \n",
       "outlook     0.00000000 0.7211155   0.6103932 0.7923961 0.07303349\n",
       "temperature 0.72111550 0.0000000   0.3109045 0.2509366 0.68014215\n",
       "humidity    0.61039323 0.3109045   0.0000000 0.5146305 0.20327979\n",
       "windy       0.79239609 0.2509366   0.5146305 0.0000000 0.37278428\n",
       "label       0.07303349 0.6801421   0.2032798 0.3727843 0.00000000"
      ]
     },
     "metadata": {},
     "output_type": "display_data"
    }
   ],
   "source": [
    "set.seed(10)\n",
    "correlationMatrix <- cor_pmat(all_dt) # calculate correlation matrix\n",
    "correlationMatrix"
   ]
  },
  {
   "cell_type": "code",
   "execution_count": 59,
   "metadata": {},
   "outputs": [
    {
     "name": "stderr",
     "output_type": "stream",
     "text": [
      "Installing package into 'C:/Users/SHAWON-PC/Documents/R/win-library/3.6'\n",
      "(as 'lib' is unspecified)\n"
     ]
    },
    {
     "name": "stdout",
     "output_type": "stream",
     "text": [
      "package 'corrplot' successfully unpacked and MD5 sums checked\n",
      "\n",
      "The downloaded binary packages are in\n",
      "\tC:\\Users\\SHAWON-PC\\AppData\\Local\\Temp\\RtmpmCYYJm\\downloaded_packages\n"
     ]
    },
    {
     "name": "stderr",
     "output_type": "stream",
     "text": [
      "Warning message:\n",
      "\"package 'corrplot' was built under R version 3.6.3\"corrplot 0.84 loaded\n"
     ]
    }
   ],
   "source": [
    "install.packages(\"corrplot\")\n",
    "library(corrplot)"
   ]
  },
  {
   "cell_type": "code",
   "execution_count": 68,
   "metadata": {},
   "outputs": [
    {
     "data": {
      "image/png": "[encoded data removed]",
      "text/plain": [
       "Plot with title \"\""
      ]
     },
     "metadata": {},
     "output_type": "display_data"
    }
   ],
   "source": [
    "corrplot(correlationMatrix)"
   ]
  },
  {
   "cell_type": "code",
   "execution_count": 69,
   "metadata": {},
   "outputs": [
    {
     "data": {
      "image/png": "[encoded data removed]",
      "text/plain": [
       "plot without title"
      ]
     },
     "metadata": {},
     "output_type": "display_data"
    }
   ],
   "source": [
    "palette = colorRampPalette(c(\"green\", \"white\", \"red\")) (20)\n",
    "heatmap(x = correlationMatrix, col = palette, symm = TRUE)"
   ]
  },
  {
   "cell_type": "code",
   "execution_count": 70,
   "metadata": {},
   "outputs": [
    {
     "name": "stdout",
     "output_type": "stream",
     "text": [
      "[1] 1 2 4\n"
     ]
    }
   ],
   "source": [
    "correlationMatrix[is.na(correlationMatrix)] <- 0\n",
    "highlyCorrelated <- findCorrelation(correlationMatrix, cutoff=0.5) # find attributes that are highly corrected that is equal 0.8\n",
    "print(highlyCorrelated) # print indexes of highly correlated attributes"
   ]
  },
  {
   "cell_type": "code",
   "execution_count": 79,
   "metadata": {},
   "outputs": [
    {
     "data": {
      "image/png": "[encoded data removed]",
      "text/plain": [
       "plot without title"
      ]
     },
     "metadata": {},
     "output_type": "display_data"
    }
   ],
   "source": [
    "dt_corr = sapply(dt_n[,highlyCorrelated],unclass)\n",
    "dt_corr_m = cor_pmat(dt_corr)\n",
    "ggcorrplot(dt_corr_m, hc.order = TRUE, type = \"lower\", lab = TRUE)"
   ]
  },
  {
   "cell_type": "code",
   "execution_count": 80,
   "metadata": {},
   "outputs": [
    {
     "data": {
      "text/html": [
       "<table>\n",
       "<caption>A data.frame: 6 × 4</caption>\n",
       "<thead>\n",
       "\t<tr><th scope=col>str_att</th><th scope=col>temperature</th><th scope=col>windy</th><th scope=col>label</th></tr>\n",
       "\t<tr><th scope=col>&lt;dbl&gt;</th><th scope=col>&lt;dbl&gt;</th><th scope=col>&lt;dbl&gt;</th><th scope=col>&lt;int&gt;</th></tr>\n",
       "</thead>\n",
       "<tbody>\n",
       "\t<tr><td>1.0</td><td>1.00000000</td><td>0</td><td>0</td></tr>\n",
       "\t<tr><td>1.0</td><td>0.76190476</td><td>1</td><td>0</td></tr>\n",
       "\t<tr><td>0.0</td><td>0.90476190</td><td>0</td><td>1</td></tr>\n",
       "\t<tr><td>0.5</td><td>0.28571429</td><td>0</td><td>1</td></tr>\n",
       "\t<tr><td>0.5</td><td>0.19047619</td><td>0</td><td>1</td></tr>\n",
       "\t<tr><td>0.5</td><td>0.04761905</td><td>1</td><td>0</td></tr>\n",
       "</tbody>\n",
       "</table>\n"
      ],
      "text/latex": [
       "A data.frame: 6 × 4\n",
       "\\begin{tabular}{r|llll}\n",
       " str\\_att & temperature & windy & label\\\\\n",
       " <dbl> & <dbl> & <dbl> & <int>\\\\\n",
       "\\hline\n",
       "\t 1.0 & 1.00000000 & 0 & 0\\\\\n",
       "\t 1.0 & 0.76190476 & 1 & 0\\\\\n",
       "\t 0.0 & 0.90476190 & 0 & 1\\\\\n",
       "\t 0.5 & 0.28571429 & 0 & 1\\\\\n",
       "\t 0.5 & 0.19047619 & 0 & 1\\\\\n",
       "\t 0.5 & 0.04761905 & 1 & 0\\\\\n",
       "\\end{tabular}\n"
      ],
      "text/markdown": [
       "\n",
       "A data.frame: 6 × 4\n",
       "\n",
       "| str_att &lt;dbl&gt; | temperature &lt;dbl&gt; | windy &lt;dbl&gt; | label &lt;int&gt; |\n",
       "|---|---|---|---|\n",
       "| 1.0 | 1.00000000 | 0 | 0 |\n",
       "| 1.0 | 0.76190476 | 1 | 0 |\n",
       "| 0.0 | 0.90476190 | 0 | 1 |\n",
       "| 0.5 | 0.28571429 | 0 | 1 |\n",
       "| 0.5 | 0.19047619 | 0 | 1 |\n",
       "| 0.5 | 0.04761905 | 1 | 0 |\n",
       "\n"
      ],
      "text/plain": [
       "  str_att temperature windy label\n",
       "1 1.0     1.00000000  0     0    \n",
       "2 1.0     0.76190476  1     0    \n",
       "3 0.0     0.90476190  0     1    \n",
       "4 0.5     0.28571429  0     1    \n",
       "5 0.5     0.19047619  0     1    \n",
       "6 0.5     0.04761905  1     0    "
      ]
     },
     "metadata": {},
     "output_type": "display_data"
    }
   ],
   "source": [
    "data_corr= cbind(as.data.frame(dt_corr),data[,ncol(data)-1])\n",
    "names(data_corr)[ncol(data_corr)] <- \"label\"\n",
    "head(data_corr)"
   ]
  },
  {
   "cell_type": "code",
   "execution_count": 81,
   "metadata": {},
   "outputs": [],
   "source": [
    "set.seed(3033)\n",
    "intrain <- createDataPartition(y = data_corr$label, p= 0.7, list = FALSE)\n",
    "\n",
    "orignal_train <- orignal_dt[intrain,]\n",
    "orignal_test <- orignal_dt[-intrain,]\n",
    "\n",
    "filtered_train <- data_corr[intrain,]\n",
    "filtered_test <- data_corr[-intrain,]"
   ]
  },
  {
   "cell_type": "code",
   "execution_count": 82,
   "metadata": {},
   "outputs": [
    {
     "data": {
      "text/plain": [
       "     outlook   temperature       humidity       windy             label       \n",
       " overcast:4   Min.   :64.00   Min.   :64.00   Mode :logical   Min.   :0.0000  \n",
       " rainy   :5   1st Qu.:69.25   1st Qu.:71.25   FALSE:8         1st Qu.:0.0000  \n",
       " sunny   :5   Median :72.00   Median :81.50   TRUE :6         Median :1.0000  \n",
       "              Mean   :73.57   Mean   :81.36                   Mean   :0.6429  \n",
       "              3rd Qu.:78.75   3rd Qu.:90.00                   3rd Qu.:1.0000  \n",
       "              Max.   :85.00   Max.   :96.00                   Max.   :1.0000  \n",
       "  play  \n",
       " no :5  \n",
       " yes:9  \n",
       "        \n",
       "        \n",
       "        \n",
       "        "
      ]
     },
     "metadata": {},
     "output_type": "display_data"
    },
    {
     "data": {
      "text/plain": [
       "    str_att      temperature          windy         label    \n",
       " Min.   :0.00   Min.   :0.04762   Min.   :0.0   Min.   :0.0  \n",
       " 1st Qu.:0.50   1st Qu.:0.29762   1st Qu.:0.0   1st Qu.:0.0  \n",
       " Median :0.50   Median :0.38095   Median :0.5   Median :0.5  \n",
       " Mean   :0.65   Mean   :0.44286   Mean   :0.5   Mean   :0.5  \n",
       " 3rd Qu.:1.00   3rd Qu.:0.52381   3rd Qu.:1.0   3rd Qu.:1.0  \n",
       " Max.   :1.00   Max.   :1.00000   Max.   :1.0   Max.   :1.0  "
      ]
     },
     "metadata": {},
     "output_type": "display_data"
    },
    {
     "data": {
      "text/plain": [
       "    str_att      temperature         windy          label  \n",
       " Min.   :0.00   Min.   :0.0000   Min.   :0.00   Min.   :1  \n",
       " 1st Qu.:0.00   1st Qu.:0.1786   1st Qu.:0.00   1st Qu.:1  \n",
       " Median :0.00   Median :0.5238   Median :0.00   Median :1  \n",
       " Mean   :0.25   Mean   :0.4881   Mean   :0.25   Mean   :1  \n",
       " 3rd Qu.:0.25   3rd Qu.:0.8333   3rd Qu.:0.25   3rd Qu.:1  \n",
       " Max.   :1.00   Max.   :0.9048   Max.   :1.00   Max.   :1  "
      ]
     },
     "metadata": {},
     "output_type": "display_data"
    },
    {
     "data": {
      "text/plain": [
       "     outlook   temperature       humidity       windy             label    \n",
       " overcast:1   Min.   :65.00   Min.   :70.00   Mode :logical   Min.   :0.0  \n",
       " rainy   :5   1st Qu.:70.25   1st Qu.:80.00   FALSE:5         1st Qu.:0.0  \n",
       " sunny   :4   Median :72.00   Median :87.50   TRUE :5         Median :0.5  \n",
       "              Mean   :73.30   Mean   :84.70                   Mean   :0.5  \n",
       "              3rd Qu.:75.00   3rd Qu.:90.75                   3rd Qu.:1.0  \n",
       "              Max.   :85.00   Max.   :96.00                   Max.   :1.0  \n",
       "  play  \n",
       " no :5  \n",
       " yes:5  \n",
       "        \n",
       "        \n",
       "        \n",
       "        "
      ]
     },
     "metadata": {},
     "output_type": "display_data"
    },
    {
     "data": {
      "text/plain": [
       "     outlook   temperature       humidity      windy             label  \n",
       " overcast:3   Min.   :64.00   Min.   :64.0   Mode :logical   Min.   :1  \n",
       " rainy   :0   1st Qu.:67.75   1st Qu.:68.5   FALSE:3         1st Qu.:1  \n",
       " sunny   :1   Median :75.00   Median :72.5   TRUE :1         Median :1  \n",
       "              Mean   :74.25   Mean   :73.0                   Mean   :1  \n",
       "              3rd Qu.:81.50   3rd Qu.:77.0                   3rd Qu.:1  \n",
       "              Max.   :83.00   Max.   :83.0                   Max.   :1  \n",
       "  play  \n",
       " no :0  \n",
       " yes:4  \n",
       "        \n",
       "        \n",
       "        \n",
       "        "
      ]
     },
     "metadata": {},
     "output_type": "display_data"
    }
   ],
   "source": [
    "summary(data)\n",
    "\n",
    "summary(filtered_train)\n",
    "summary(filtered_test)\n",
    "\n",
    "summary(orignal_train)\n",
    "summary(orignal_test)"
   ]
  },
  {
   "cell_type": "code",
   "execution_count": 83,
   "metadata": {},
   "outputs": [],
   "source": [
    "write.csv(all_dt,'New_Weather.csv')"
   ]
  }
 ],
 "metadata": {
  "kernelspec": {
   "display_name": "R",
   "language": "R",
   "name": "ir"
  },
  "language_info": {
   "codemirror_mode": "r",
   "file_extension": ".r",
   "mimetype": "text/x-r-source",
   "name": "R",
   "pygments_lexer": "r",
   "version": "3.6.1"
  }
 },
 "nbformat": 4,
 "nbformat_minor": 2
}
